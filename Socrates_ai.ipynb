{
  "nbformat": 4,
  "nbformat_minor": 0,
  "metadata": {
    "colab": {
      "name": "Socrates.aiipynb",
      "version": "0.3.2",
      "provenance": [],
      "include_colab_link": true
    },
    "kernelspec": {
      "name": "python3",
      "display_name": "Python 3"
    },
    "accelerator": "GPU"
  },
  "cells": [
    {
      "cell_type": "markdown",
      "metadata": {
        "id": "view-in-github",
        "colab_type": "text"
      },
      "source": [
        "<a href=\"https://colab.research.google.com/github/marvin-hansen/AI-FUN/blob/master/Socrates_ai.ipynb\" target=\"_parent\"><img src=\"https://colab.research.google.com/assets/colab-badge.svg\" alt=\"Open In Colab\"/></a>"
      ]
    },
    {
      "metadata": {
        "id": "WWqHDVrBcOb1",
        "colab_type": "text"
      },
      "cell_type": "markdown",
      "source": [
        "# Philosophic quote generator\n",
        "\n",
        "\n",
        "\n",
        "---\n",
        "\n",
        "|    \t|               \t|\n",
        "|---------\t|-------------------------\t|\n",
        "| Author  \t| Marvin Hansen           \t|\n",
        "| Contact \t| marvin.hansen@gmail.com \t|\n",
        "| Version \t| 0.1                     \t|\n",
        "| Updated \t| April 26, 2019          \t|\n",
        "\n",
        "\n",
        "\n",
        "## Summary\n",
        "---\n",
        "\n",
        "@TODO \n",
        "\n",
        "\n",
        "## Changelog\n",
        "\n",
        "---\n",
        "* V-0.1 [Apr/25] Added installs, imports, data loader, and procs\n",
        "\n",
        "## Compatibility\n",
        "---\n",
        "\n",
        "Lib's\n",
        "* Python Version: 3.6.7\n",
        "* Pandas Version: 0.24.2\n",
        "* Numpy Version: 1.16.3\n",
        "* PyTorch Version: 1.0.1.post2\n",
        "\n",
        "\n",
        "GPU Acceleration \n",
        "* GPU: NVDIA Tesla T4 \n",
        "* Cuda V10.0.130\n"
      ]
    },
    {
      "metadata": {
        "id": "VFG255vYceJi",
        "colab_type": "text"
      },
      "cell_type": "markdown",
      "source": [
        "# Installs "
      ]
    },
    {
      "metadata": {
        "id": "iucW4OIecBkC",
        "colab_type": "code",
        "colab": {
          "base_uri": "https://localhost:8080/",
          "height": 180
        },
        "outputId": "5acee68e-98db-485e-8585-4d85cb7f9efa"
      },
      "cell_type": "code",
      "source": [
        "# update pandas \n",
        "!pip install --upgrade numpy\n",
        "\n",
        "# update pandas \n",
        "!pip install --upgrade pandas  \n",
        "\n",
        "\n",
        "# install latet fast.ai release\n",
        "# https://github.com/fastai/fastai/releases\n",
        "!curl -s https://course.fast.ai/setup/colab | bash\n",
        "!ls"
      ],
      "execution_count": 1,
      "outputs": [
        {
          "output_type": "stream",
          "text": [
            "Requirement already up-to-date: numpy in /usr/local/lib/python3.6/dist-packages (1.16.3)\n",
            "Requirement already up-to-date: pandas in /usr/local/lib/python3.6/dist-packages (0.24.2)\n",
            "Requirement already satisfied, skipping upgrade: python-dateutil>=2.5.0 in /usr/local/lib/python3.6/dist-packages (from pandas) (2.5.3)\n",
            "Requirement already satisfied, skipping upgrade: numpy>=1.12.0 in /usr/local/lib/python3.6/dist-packages (from pandas) (1.16.3)\n",
            "Requirement already satisfied, skipping upgrade: pytz>=2011k in /usr/local/lib/python3.6/dist-packages (from pandas) (2018.9)\n",
            "Requirement already satisfied, skipping upgrade: six>=1.5 in /usr/local/lib/python3.6/dist-packages (from python-dateutil>=2.5.0->pandas) (1.12.0)\n",
            "ln: failed to create symbolic link '/content/data': File exists\n",
            "Updating fastai...\n",
            "Done.\n",
            "data  models  quotes.csv\n"
          ],
          "name": "stdout"
        }
      ]
    },
    {
      "metadata": {
        "id": "FYt-N6BHdu6s",
        "colab_type": "text"
      },
      "cell_type": "markdown",
      "source": [
        "# Imports"
      ]
    },
    {
      "metadata": {
        "id": "XjFxzTGRdwGq",
        "colab_type": "code",
        "colab": {
          "base_uri": "https://localhost:8080/",
          "height": 0
        },
        "outputId": "ffa526c5-6a47-4644-da0e-329062ee827b"
      },
      "cell_type": "code",
      "source": [
        "import datetime\n",
        "import platform\n",
        "import warnings\n",
        "\n",
        "import torch\n",
        "import pandas as pd\n",
        "import numpy as np\n",
        "import matplotlib.pyplot as plt\n",
        "\n",
        "import fastai\n",
        "from fastai.imports import *\n",
        "from fastai.basics import *\n",
        "from fastai import *\n",
        "from fastai.text import *\n",
        "\n",
        "\n",
        "import platform\n",
        "print(\"Done\")"
      ],
      "execution_count": 2,
      "outputs": [
        {
          "output_type": "stream",
          "text": [
            "Done\n"
          ],
          "name": "stdout"
        }
      ]
    },
    {
      "metadata": {
        "id": "mKNKrZ8teIP-",
        "colab_type": "text"
      },
      "cell_type": "markdown",
      "source": [
        ""
      ]
    },
    {
      "metadata": {
        "id": "IfvZRikwnKdF",
        "colab_type": "text"
      },
      "cell_type": "markdown",
      "source": [
        "## GPU Accelerations "
      ]
    },
    {
      "metadata": {
        "id": "isfKYW-6nOOD",
        "colab_type": "code",
        "outputId": "04203c91-32c8-4cfe-b3b1-3e1d680a50e1",
        "colab": {
          "base_uri": "https://localhost:8080/",
          "height": 0
        }
      },
      "cell_type": "code",
      "source": [
        "torch.cuda.current_device()\n",
        "\n",
        "print(\"Cuda available: \" + str(torch.cuda.is_available()))\n",
        "print(\"Cuda enabled:\" + str(torch.backends.cudnn.enabled))\n",
        "\n",
        "#https://stackoverflow.com/questions/48152674/how-to-check-if-pytorch-is-using-the-gpu\n",
        "# setting device on GPU if available, else CPU\n",
        "device = torch.device('cuda' if torch.cuda.is_available() else 'cpu')\n",
        "print('Using device:', device)\n",
        "print()\n",
        "\n",
        "\n",
        "#Additional Info when using cuda\n",
        "if device.type == 'cuda':\n",
        "    print(\"GPU used: \" + torch.cuda.get_device_name(0))\n",
        "    print('Memory Usage:')\n",
        "    print('Allocated:', round(torch.cuda.memory_allocated(0)/1024**3,1), 'GB')\n",
        "    print('Cached:   ', round(torch.cuda.memory_cached(0)/1024**3,1), 'GB')"
      ],
      "execution_count": 3,
      "outputs": [
        {
          "output_type": "stream",
          "text": [
            "Cuda available: True\n",
            "Cuda enabled:True\n",
            "Using device: cuda\n",
            "\n",
            "GPU used: Tesla T4\n",
            "Memory Usage:\n",
            "Allocated: 0.0 GB\n",
            "Cached:    0.0 GB\n"
          ],
          "name": "stdout"
        }
      ]
    },
    {
      "metadata": {
        "id": "QMfsFdovmreG",
        "colab_type": "text"
      },
      "cell_type": "markdown",
      "source": [
        "# Constants & Flags"
      ]
    },
    {
      "metadata": {
        "id": "9HqABZcAnfmx",
        "colab_type": "code",
        "colab": {}
      },
      "cell_type": "code",
      "source": [
        "%reload_ext autoreload\n",
        "%autoreload 2\n",
        "%matplotlib inline\n"
      ],
      "execution_count": 0,
      "outputs": []
    },
    {
      "metadata": {
        "id": "MaNkfDNVnjRd",
        "colab_type": "code",
        "colab": {}
      },
      "cell_type": "code",
      "source": [
        "#batch size \n",
        "bs = 64\n",
        "# bs = 32 \n",
        "# bs = 16   # uncomment this line if you run out of memory even after clicking Kernel->Restart"
      ],
      "execution_count": 0,
      "outputs": []
    },
    {
      "metadata": {
        "id": "Iop5S2n9nmZO",
        "colab_type": "code",
        "colab": {}
      },
      "cell_type": "code",
      "source": [
        "# https://docs.scipy.org/doc/numpy/reference/generated/numpy.random.seed.html\n",
        "np.random.seed(42) "
      ],
      "execution_count": 0,
      "outputs": []
    },
    {
      "metadata": {
        "id": "KUDUUztMemxc",
        "colab_type": "text"
      },
      "cell_type": "markdown",
      "source": [
        "# Data"
      ]
    },
    {
      "metadata": {
        "id": "gWi5IU1EeoaC",
        "colab_type": "code",
        "colab": {
          "base_uri": "https://localhost:8080/",
          "height": 277
        },
        "outputId": "9ed95cb0-de35-4123-83f2-bdac7cf88e4a"
      },
      "cell_type": "code",
      "source": [
        "! wget https://github.com/paraschopra/generating-text-small-corpus/raw/master/data/quotes.csv"
      ],
      "execution_count": 7,
      "outputs": [
        {
          "output_type": "stream",
          "text": [
            "--2019-04-26 17:18:14--  https://github.com/paraschopra/generating-text-small-corpus/raw/master/data/quotes.csv\n",
            "Resolving github.com (github.com)... 192.30.253.113, 192.30.253.112\n",
            "Connecting to github.com (github.com)|192.30.253.113|:443... connected.\n",
            "HTTP request sent, awaiting response... 302 Found\n",
            "Location: https://raw.githubusercontent.com/paraschopra/generating-text-small-corpus/master/data/quotes.csv [following]\n",
            "--2019-04-26 17:18:15--  https://raw.githubusercontent.com/paraschopra/generating-text-small-corpus/master/data/quotes.csv\n",
            "Resolving raw.githubusercontent.com (raw.githubusercontent.com)... 151.101.0.133, 151.101.64.133, 151.101.128.133, ...\n",
            "Connecting to raw.githubusercontent.com (raw.githubusercontent.com)|151.101.0.133|:443... connected.\n",
            "HTTP request sent, awaiting response... 200 OK\n",
            "Length: 1062011 (1.0M) [text/plain]\n",
            "Saving to: ‘quotes.csv.1’\n",
            "\n",
            "quotes.csv.1        100%[===================>]   1.01M  --.-KB/s    in 0.05s   \n",
            "\n",
            "2019-04-26 17:18:15 (22.3 MB/s) - ‘quotes.csv.1’ saved [1062011/1062011]\n",
            "\n"
          ],
          "name": "stdout"
        }
      ]
    },
    {
      "metadata": {
        "id": "Ek0_623UfPEL",
        "colab_type": "code",
        "colab": {
          "base_uri": "https://localhost:8080/",
          "height": 70
        },
        "outputId": "6730c51f-7817-46d3-8bab-116a60d77553"
      },
      "cell_type": "code",
      "source": [
        "df = pd.read_csv('quotes.csv', sep=r'\\<\\|\\>', header=None, names=['text', 'author'])\n"
      ],
      "execution_count": 8,
      "outputs": [
        {
          "output_type": "stream",
          "text": [
            "/usr/local/lib/python3.6/dist-packages/ipykernel_launcher.py:1: ParserWarning: Falling back to the 'python' engine because the 'c' engine does not support regex separators (separators > 1 char and different from '\\s+' are interpreted as regex); you can avoid this warning by specifying engine='python'.\n",
            "  \"\"\"Entry point for launching an IPython kernel.\n"
          ],
          "name": "stderr"
        }
      ]
    },
    {
      "metadata": {
        "id": "CRwwZ5ZzfXUC",
        "colab_type": "code",
        "colab": {
          "base_uri": "https://localhost:8080/",
          "height": 191
        },
        "outputId": "9fc083e0-adbb-46bd-ac20-da2a6e3f8bb3"
      },
      "cell_type": "code",
      "source": [
        "\n",
        "df.head()\n"
      ],
      "execution_count": 9,
      "outputs": [
        {
          "output_type": "execute_result",
          "data": {
            "text/html": [
              "<div>\n",
              "<style scoped>\n",
              "    .dataframe tbody tr th:only-of-type {\n",
              "        vertical-align: middle;\n",
              "    }\n",
              "\n",
              "    .dataframe tbody tr th {\n",
              "        vertical-align: top;\n",
              "    }\n",
              "\n",
              "    .dataframe thead th {\n",
              "        text-align: right;\n",
              "    }\n",
              "</style>\n",
              "<table border=\"1\" class=\"dataframe\">\n",
              "  <thead>\n",
              "    <tr style=\"text-align: right;\">\n",
              "      <th></th>\n",
              "      <th>text</th>\n",
              "      <th>author</th>\n",
              "    </tr>\n",
              "  </thead>\n",
              "  <tbody>\n",
              "    <tr>\n",
              "      <th>0</th>\n",
              "      <td>A serious and good philosophical work could be...</td>\n",
              "      <td>Wittgenstein</td>\n",
              "    </tr>\n",
              "    <tr>\n",
              "      <th>1</th>\n",
              "      <td>The limits of my language means the limits of ...</td>\n",
              "      <td>Wittgenstein</td>\n",
              "    </tr>\n",
              "    <tr>\n",
              "      <th>2</th>\n",
              "      <td>I don't know why we are here, but I'm pretty s...</td>\n",
              "      <td>Wittgenstein</td>\n",
              "    </tr>\n",
              "    <tr>\n",
              "      <th>3</th>\n",
              "      <td>Whereof one cannot speak, thereof one must be ...</td>\n",
              "      <td>Wittgenstein</td>\n",
              "    </tr>\n",
              "    <tr>\n",
              "      <th>4</th>\n",
              "      <td>Hell isn't other people. Hell is yourself.</td>\n",
              "      <td>Wittgenstein</td>\n",
              "    </tr>\n",
              "  </tbody>\n",
              "</table>\n",
              "</div>"
            ],
            "text/plain": [
              "                                                text        author\n",
              "0  A serious and good philosophical work could be...  Wittgenstein\n",
              "1  The limits of my language means the limits of ...  Wittgenstein\n",
              "2  I don't know why we are here, but I'm pretty s...  Wittgenstein\n",
              "3  Whereof one cannot speak, thereof one must be ...  Wittgenstein\n",
              "4         Hell isn't other people. Hell is yourself.  Wittgenstein"
            ]
          },
          "metadata": {
            "tags": []
          },
          "execution_count": 9
        }
      ]
    },
    {
      "metadata": {
        "id": "O4TPJxPgfdob",
        "colab_type": "code",
        "colab": {}
      },
      "cell_type": "code",
      "source": [
        "df['text'] = df['text'].str.lower()\n"
      ],
      "execution_count": 0,
      "outputs": []
    },
    {
      "metadata": {
        "id": "u1f9pWjjeoVC",
        "colab_type": "text"
      },
      "cell_type": "markdown",
      "source": [
        "Split & Train & Test"
      ]
    },
    {
      "metadata": {
        "id": "vZOPFYDEfjq7",
        "colab_type": "code",
        "colab": {
          "base_uri": "https://localhost:8080/",
          "height": 33
        },
        "outputId": "eb495eab-ce94-4d62-bc55-f0df69848338"
      },
      "cell_type": "code",
      "source": [
        "valid_pct = 0.10 #validation percent\n",
        "df = df.iloc[np.random.permutation(len(df))]\n",
        "cut = int(valid_pct * len(df)) + 1\n",
        "train_df, valid_df = df[cut:], df[:cut]\n",
        "len(train_df), len(valid_df)\n"
      ],
      "execution_count": 11,
      "outputs": [
        {
          "output_type": "execute_result",
          "data": {
            "text/plain": [
              "(4616, 514)"
            ]
          },
          "metadata": {
            "tags": []
          },
          "execution_count": 11
        }
      ]
    },
    {
      "metadata": {
        "id": "RW0umysBfrU7",
        "colab_type": "code",
        "colab": {
          "base_uri": "https://localhost:8080/",
          "height": 47
        },
        "outputId": "73d1c46e-d818-4d1b-f320-0833e79e4b09"
      },
      "cell_type": "code",
      "source": [
        "nan_rows = df[df['text'].isnull()]\n",
        "\n",
        "nan_rows\n"
      ],
      "execution_count": 12,
      "outputs": [
        {
          "output_type": "execute_result",
          "data": {
            "text/html": [
              "<div>\n",
              "<style scoped>\n",
              "    .dataframe tbody tr th:only-of-type {\n",
              "        vertical-align: middle;\n",
              "    }\n",
              "\n",
              "    .dataframe tbody tr th {\n",
              "        vertical-align: top;\n",
              "    }\n",
              "\n",
              "    .dataframe thead th {\n",
              "        text-align: right;\n",
              "    }\n",
              "</style>\n",
              "<table border=\"1\" class=\"dataframe\">\n",
              "  <thead>\n",
              "    <tr style=\"text-align: right;\">\n",
              "      <th></th>\n",
              "      <th>text</th>\n",
              "      <th>author</th>\n",
              "    </tr>\n",
              "  </thead>\n",
              "  <tbody>\n",
              "  </tbody>\n",
              "</table>\n",
              "</div>"
            ],
            "text/plain": [
              "Empty DataFrame\n",
              "Columns: [text, author]\n",
              "Index: []"
            ]
          },
          "metadata": {
            "tags": []
          },
          "execution_count": 12
        }
      ]
    },
    {
      "metadata": {
        "id": "Q4UQbOvyfvXy",
        "colab_type": "text"
      },
      "cell_type": "markdown",
      "source": [
        "# Prepare model\n",
        "\n",
        "\n",
        "Create databunch"
      ]
    },
    {
      "metadata": {
        "id": "RZiydo6-fyN0",
        "colab_type": "code",
        "colab": {}
      },
      "cell_type": "code",
      "source": [
        "data_lm = TextLMDataBunch.from_df('data', train_df, valid_df, text_cols='text',\n",
        "                           label_cols='author')"
      ],
      "execution_count": 0,
      "outputs": []
    },
    {
      "metadata": {
        "id": "LOYHmOzUf3dc",
        "colab_type": "text"
      },
      "cell_type": "markdown",
      "source": [
        "Create learner"
      ]
    },
    {
      "metadata": {
        "id": "i_AwBbr3f6Oc",
        "colab_type": "code",
        "colab": {}
      },
      "cell_type": "code",
      "source": [
        "#learn = language_model_learner(data=data_lm,arch=Transformer, drop_mult=0.5)\n",
        "\n",
        "#learn.destroy()\n",
        "\n",
        "learn = language_model_learner(data_lm, AWD_LSTM, drop_mult=0.5)"
      ],
      "execution_count": 0,
      "outputs": []
    },
    {
      "metadata": {
        "id": "lMoI5B-TijBw",
        "colab_type": "code",
        "colab": {}
      },
      "cell_type": "code",
      "source": [
        "# Train model"
      ],
      "execution_count": 0,
      "outputs": []
    },
    {
      "metadata": {
        "id": "Cr08-7RWh96e",
        "colab_type": "code",
        "colab": {
          "base_uri": "https://localhost:8080/",
          "height": 76
        },
        "outputId": "1e054232-cafb-45e5-f887-3a8ecf6b75b5"
      },
      "cell_type": "code",
      "source": [
        "learn.fit_one_cycle(1, 1e-2)\n"
      ],
      "execution_count": 16,
      "outputs": [
        {
          "output_type": "display_data",
          "data": {
            "text/html": [
              "<table border=\"1\" class=\"dataframe\">\n",
              "  <thead>\n",
              "    <tr style=\"text-align: left;\">\n",
              "      <th>epoch</th>\n",
              "      <th>train_loss</th>\n",
              "      <th>valid_loss</th>\n",
              "      <th>accuracy</th>\n",
              "      <th>time</th>\n",
              "    </tr>\n",
              "  </thead>\n",
              "  <tbody>\n",
              "    <tr>\n",
              "      <td>0</td>\n",
              "      <td>5.095224</td>\n",
              "      <td>4.510725</td>\n",
              "      <td>0.221652</td>\n",
              "      <td>00:08</td>\n",
              "    </tr>\n",
              "  </tbody>\n",
              "</table>"
            ],
            "text/plain": [
              "<IPython.core.display.HTML object>"
            ]
          },
          "metadata": {
            "tags": []
          }
        }
      ]
    },
    {
      "metadata": {
        "id": "0__BvRIWkCbu",
        "colab_type": "code",
        "colab": {
          "base_uri": "https://localhost:8080/",
          "height": 300
        },
        "outputId": "6b8a21df-8e12-41cc-bfe2-a3b1537760f3"
      },
      "cell_type": "code",
      "source": [
        "learn.lr_find()\n",
        "learn.recorder.plot()"
      ],
      "execution_count": 17,
      "outputs": [
        {
          "output_type": "display_data",
          "data": {
            "text/html": [
              ""
            ],
            "text/plain": [
              "<IPython.core.display.HTML object>"
            ]
          },
          "metadata": {
            "tags": []
          }
        },
        {
          "output_type": "stream",
          "text": [
            "LR Finder is complete, type {learner_name}.recorder.plot() to see the graph.\n"
          ],
          "name": "stdout"
        },
        {
          "output_type": "display_data",
          "data": {
            "image/png": "[encoded data removed]",
            "text/plain": [
              "<Figure size 432x288 with 1 Axes>"
            ]
          },
          "metadata": {
            "tags": []
          }
        }
      ]
    },
    {
      "metadata": {
        "id": "yNrWSSKRin8R",
        "colab_type": "code",
        "colab": {
          "base_uri": "https://localhost:8080/",
          "height": 76
        },
        "outputId": "d1cf519b-c560-4a71-e720-f902ed0a4ac2"
      },
      "cell_type": "code",
      "source": [
        "learn.unfreeze()\n",
        "learn.fit_one_cycle(1, 1e-3)"
      ],
      "execution_count": 18,
      "outputs": [
        {
          "output_type": "display_data",
          "data": {
            "text/html": [
              "<table border=\"1\" class=\"dataframe\">\n",
              "  <thead>\n",
              "    <tr style=\"text-align: left;\">\n",
              "      <th>epoch</th>\n",
              "      <th>train_loss</th>\n",
              "      <th>valid_loss</th>\n",
              "      <th>accuracy</th>\n",
              "      <th>time</th>\n",
              "    </tr>\n",
              "  </thead>\n",
              "  <tbody>\n",
              "    <tr>\n",
              "      <td>0</td>\n",
              "      <td>4.546572</td>\n",
              "      <td>4.242918</td>\n",
              "      <td>0.253080</td>\n",
              "      <td>00:11</td>\n",
              "    </tr>\n",
              "  </tbody>\n",
              "</table>"
            ],
            "text/plain": [
              "<IPython.core.display.HTML object>"
            ]
          },
          "metadata": {
            "tags": []
          }
        }
      ]
    },
    {
      "metadata": {
        "id": "_yQ2LWGfj0__",
        "colab_type": "code",
        "colab": {
          "base_uri": "https://localhost:8080/",
          "height": 690
        },
        "outputId": "d0c98a83-5279-4cee-8951-7a0a1daabecf"
      },
      "cell_type": "code",
      "source": [
        "  # start with a mega rate\n",
        "  learn.fit_one_cycle(3, 3e-4)\n",
        " \n",
        "  # smaller rate with smaller steps\n",
        "  learn.fit_one_cycle(5, 1e-3, wd=0.1)\n",
        "  # plot losses\n",
        "  \n",
        "  # smaller rate with smaller steps\n",
        "  learn.fit_one_cycle(5, 1e-03, wd=0.1)\n",
        "  # plot losses\n",
        "  learn.recorder.plot_losses()"
      ],
      "execution_count": 19,
      "outputs": [
        {
          "output_type": "display_data",
          "data": {
            "text/html": [
              "<table border=\"1\" class=\"dataframe\">\n",
              "  <thead>\n",
              "    <tr style=\"text-align: left;\">\n",
              "      <th>epoch</th>\n",
              "      <th>train_loss</th>\n",
              "      <th>valid_loss</th>\n",
              "      <th>accuracy</th>\n",
              "      <th>time</th>\n",
              "    </tr>\n",
              "  </thead>\n",
              "  <tbody>\n",
              "    <tr>\n",
              "      <td>0</td>\n",
              "      <td>4.397942</td>\n",
              "      <td>4.211061</td>\n",
              "      <td>0.253973</td>\n",
              "      <td>00:10</td>\n",
              "    </tr>\n",
              "  </tbody>\n",
              "</table>"
            ],
            "text/plain": [
              "<IPython.core.display.HTML object>"
            ]
          },
          "metadata": {
            "tags": []
          }
        },
        {
          "output_type": "display_data",
          "data": {
            "text/html": [
              "<table border=\"1\" class=\"dataframe\">\n",
              "  <thead>\n",
              "    <tr style=\"text-align: left;\">\n",
              "      <th>epoch</th>\n",
              "      <th>train_loss</th>\n",
              "      <th>valid_loss</th>\n",
              "      <th>accuracy</th>\n",
              "      <th>time</th>\n",
              "    </tr>\n",
              "  </thead>\n",
              "  <tbody>\n",
              "    <tr>\n",
              "      <td>0</td>\n",
              "      <td>4.342721</td>\n",
              "      <td>4.173782</td>\n",
              "      <td>0.256161</td>\n",
              "      <td>00:10</td>\n",
              "    </tr>\n",
              "    <tr>\n",
              "      <td>1</td>\n",
              "      <td>4.272694</td>\n",
              "      <td>4.104602</td>\n",
              "      <td>0.263080</td>\n",
              "      <td>00:10</td>\n",
              "    </tr>\n",
              "    <tr>\n",
              "      <td>2</td>\n",
              "      <td>4.144128</td>\n",
              "      <td>4.050588</td>\n",
              "      <td>0.268170</td>\n",
              "      <td>00:10</td>\n",
              "    </tr>\n",
              "    <tr>\n",
              "      <td>3</td>\n",
              "      <td>3.996112</td>\n",
              "      <td>4.020431</td>\n",
              "      <td>0.272098</td>\n",
              "      <td>00:10</td>\n",
              "    </tr>\n",
              "    <tr>\n",
              "      <td>4</td>\n",
              "      <td>3.894312</td>\n",
              "      <td>4.020176</td>\n",
              "      <td>0.273080</td>\n",
              "      <td>00:10</td>\n",
              "    </tr>\n",
              "  </tbody>\n",
              "</table>"
            ],
            "text/plain": [
              "<IPython.core.display.HTML object>"
            ]
          },
          "metadata": {
            "tags": []
          }
        },
        {
          "output_type": "display_data",
          "data": {
            "text/html": [
              "<table border=\"1\" class=\"dataframe\">\n",
              "  <thead>\n",
              "    <tr style=\"text-align: left;\">\n",
              "      <th>epoch</th>\n",
              "      <th>train_loss</th>\n",
              "      <th>valid_loss</th>\n",
              "      <th>accuracy</th>\n",
              "      <th>time</th>\n",
              "    </tr>\n",
              "  </thead>\n",
              "  <tbody>\n",
              "    <tr>\n",
              "      <td>0</td>\n",
              "      <td>3.810131</td>\n",
              "      <td>4.009004</td>\n",
              "      <td>0.273795</td>\n",
              "      <td>00:10</td>\n",
              "    </tr>\n",
              "    <tr>\n",
              "      <td>1</td>\n",
              "      <td>3.783028</td>\n",
              "      <td>3.985039</td>\n",
              "      <td>0.277455</td>\n",
              "      <td>00:10</td>\n",
              "    </tr>\n",
              "    <tr>\n",
              "      <td>2</td>\n",
              "      <td>3.676878</td>\n",
              "      <td>3.958035</td>\n",
              "      <td>0.282813</td>\n",
              "      <td>00:10</td>\n",
              "    </tr>\n",
              "    <tr>\n",
              "      <td>3</td>\n",
              "      <td>3.551162</td>\n",
              "      <td>3.952961</td>\n",
              "      <td>0.284152</td>\n",
              "      <td>00:10</td>\n",
              "    </tr>\n",
              "    <tr>\n",
              "      <td>4</td>\n",
              "      <td>3.458085</td>\n",
              "      <td>3.951052</td>\n",
              "      <td>0.285000</td>\n",
              "      <td>00:10</td>\n",
              "    </tr>\n",
              "  </tbody>\n",
              "</table>"
            ],
            "text/plain": [
              "<IPython.core.display.HTML object>"
            ]
          },
          "metadata": {
            "tags": []
          }
        },
        {
          "output_type": "display_data",
          "data": {
            "image/png": "[encoded data removed]",
            "text/plain": [
              "<Figure size 432x288 with 1 Axes>"
            ]
          },
          "metadata": {
            "tags": []
          }
        }
      ]
    },
    {
      "metadata": {
        "id": "kvT_GSfaizBg",
        "colab_type": "code",
        "colab": {
          "base_uri": "https://localhost:8080/",
          "height": 601
        },
        "outputId": "eff7202b-e5d3-4402-90b1-b02cc9ec9e6c"
      },
      "cell_type": "code",
      "source": [
        "wd=1e-7\n",
        "lr=1e-3\n",
        "lrs = lr\n",
        "epch = 10\n",
        "\n",
        "learn.fit(epch, lrs, wd)\n",
        "learn.recorder.plot_losses()"
      ],
      "execution_count": 23,
      "outputs": [
        {
          "output_type": "display_data",
          "data": {
            "text/html": [
              "<table border=\"1\" class=\"dataframe\">\n",
              "  <thead>\n",
              "    <tr style=\"text-align: left;\">\n",
              "      <th>epoch</th>\n",
              "      <th>train_loss</th>\n",
              "      <th>valid_loss</th>\n",
              "      <th>accuracy</th>\n",
              "      <th>time</th>\n",
              "    </tr>\n",
              "  </thead>\n",
              "  <tbody>\n",
              "    <tr>\n",
              "      <td>0</td>\n",
              "      <td>2.112416</td>\n",
              "      <td>4.067636</td>\n",
              "      <td>0.312500</td>\n",
              "      <td>00:10</td>\n",
              "    </tr>\n",
              "    <tr>\n",
              "      <td>1</td>\n",
              "      <td>2.053558</td>\n",
              "      <td>4.083531</td>\n",
              "      <td>0.315179</td>\n",
              "      <td>00:10</td>\n",
              "    </tr>\n",
              "    <tr>\n",
              "      <td>2</td>\n",
              "      <td>1.980164</td>\n",
              "      <td>4.104480</td>\n",
              "      <td>0.318304</td>\n",
              "      <td>00:11</td>\n",
              "    </tr>\n",
              "    <tr>\n",
              "      <td>3</td>\n",
              "      <td>1.907472</td>\n",
              "      <td>4.140737</td>\n",
              "      <td>0.316607</td>\n",
              "      <td>00:10</td>\n",
              "    </tr>\n",
              "    <tr>\n",
              "      <td>4</td>\n",
              "      <td>1.818107</td>\n",
              "      <td>4.142997</td>\n",
              "      <td>0.320268</td>\n",
              "      <td>00:10</td>\n",
              "    </tr>\n",
              "    <tr>\n",
              "      <td>5</td>\n",
              "      <td>1.741892</td>\n",
              "      <td>4.177640</td>\n",
              "      <td>0.319821</td>\n",
              "      <td>00:10</td>\n",
              "    </tr>\n",
              "    <tr>\n",
              "      <td>6</td>\n",
              "      <td>1.664883</td>\n",
              "      <td>4.198384</td>\n",
              "      <td>0.320179</td>\n",
              "      <td>00:10</td>\n",
              "    </tr>\n",
              "    <tr>\n",
              "      <td>7</td>\n",
              "      <td>1.601182</td>\n",
              "      <td>4.248635</td>\n",
              "      <td>0.321607</td>\n",
              "      <td>00:10</td>\n",
              "    </tr>\n",
              "    <tr>\n",
              "      <td>8</td>\n",
              "      <td>1.535586</td>\n",
              "      <td>4.268348</td>\n",
              "      <td>0.322679</td>\n",
              "      <td>00:10</td>\n",
              "    </tr>\n",
              "    <tr>\n",
              "      <td>9</td>\n",
              "      <td>1.477744</td>\n",
              "      <td>4.285415</td>\n",
              "      <td>0.320893</td>\n",
              "      <td>00:10</td>\n",
              "    </tr>\n",
              "  </tbody>\n",
              "</table>"
            ],
            "text/plain": [
              "<IPython.core.display.HTML object>"
            ]
          },
          "metadata": {
            "tags": []
          }
        },
        {
          "output_type": "display_data",
          "data": {
            "image/png": "[encoded data removed]",
            "text/plain": [
              "<Figure size 432x288 with 1 Axes>"
            ]
          },
          "metadata": {
            "tags": []
          }
        }
      ]
    },
    {
      "metadata": {
        "id": "1oGCguMmle3k",
        "colab_type": "text"
      },
      "cell_type": "markdown",
      "source": [
        "# Generate text"
      ]
    },
    {
      "metadata": {
        "id": "Q5c3K6pbleDn",
        "colab_type": "code",
        "colab": {
          "base_uri": "https://localhost:8080/",
          "height": 33
        },
        "outputId": "41a5ae7d-1ae7-4e28-da5b-8fff05fe61a2"
      },
      "cell_type": "code",
      "source": [
        " idea = learn.predict(\"xxbos xxfld 1\", n_words=30, temperature=0.8)\n",
        " idea = idea.replace(\"xxbos xxfld 1 \",\"\").strip()\n",
        " idea"
      ],
      "execution_count": 79,
      "outputs": [
        {
          "output_type": "execute_result",
          "data": {
            "text/plain": [
              "') xxbos the most serious problem of life is that one has to die twice . it is difficult to think of a man . xxbos ... that created all'"
            ]
          },
          "metadata": {
            "tags": []
          },
          "execution_count": 79
        }
      ]
    },
    {
      "metadata": {
        "id": "TM9zoVo1uvU7",
        "colab_type": "code",
        "colab": {
          "base_uri": "https://localhost:8080/",
          "height": 33
        },
        "outputId": "4c29c2e9-4990-4029-aca9-05a31e368998"
      },
      "cell_type": "code",
      "source": [
        " idea = learn.predict(\"xxbos xxfld 1\", n_words=35, temperature=0.8)\n",
        " idea = idea.replace(\"xxbos xxfld 1 \",\"\").strip()\n",
        " idea"
      ],
      "execution_count": 133,
      "outputs": [
        {
          "output_type": "execute_result",
          "data": {
            "text/plain": [
              "'by 4 x 10 x 2 x 1 x 2 x ... .. ? ... xxbos i am a forest , and a night of dark trees : but one day might last for long'"
            ]
          },
          "metadata": {
            "tags": []
          },
          "execution_count": 133
        }
      ]
    },
    {
      "metadata": {
        "id": "th069irnxfvf",
        "colab_type": "code",
        "colab": {
          "base_uri": "https://localhost:8080/",
          "height": 33
        },
        "outputId": "6b4be1aa-ec19-4e16-d3b8-5bd8fd41162b"
      },
      "cell_type": "code",
      "source": [
        " idea = learn.predict(\"xxbos xxfld 1\", n_words=35, temperature=0.8)\n",
        " idea = idea.replace(\"xxbos xxfld 1 \",\"\").strip()\n",
        " idea"
      ],
      "execution_count": 92,
      "outputs": [
        {
          "output_type": "execute_result",
          "data": {
            "text/plain": [
              "'- 2 x - su xxbos when you are deciding to commit suicide and of whether you want to be a philosopher or thinker , you must wish to be a philosopher . xxbos in'"
            ]
          },
          "metadata": {
            "tags": []
          },
          "execution_count": 92
        }
      ]
    },
    {
      "metadata": {
        "id": "cdq7tHfayWQl",
        "colab_type": "code",
        "colab": {
          "base_uri": "https://localhost:8080/",
          "height": 33
        },
        "outputId": "c64beeb9-2401-4967-df88-66c10aa23d22"
      },
      "cell_type": "code",
      "source": [
        " idea = learn.predict(\"xxbos xxfld 1\", n_words=35, temperature=0.8)\n",
        " idea = idea.replace(\"xxbos xxfld 1 \",\"\").strip()\n",
        " idea"
      ],
      "execution_count": 103,
      "outputs": [
        {
          "output_type": "execute_result",
          "data": {
            "text/plain": [
              "'+ x + iii / 2 ! + + ... xxbos the things that happened to me had been eternal , eternal sun for god i was dead , and of a god that spoke'"
            ]
          },
          "metadata": {
            "tags": []
          },
          "execution_count": 103
        }
      ]
    },
    {
      "metadata": {
        "id": "k2cDTmxZ5YsE",
        "colab_type": "code",
        "colab": {
          "base_uri": "https://localhost:8080/",
          "height": 33
        },
        "outputId": "e71135dd-a129-4931-e9f7-41eb208e79c7"
      },
      "cell_type": "code",
      "source": [
        " idea = learn.predict(\"xxbos xxfld 1\", n_words=35, temperature=0.8)\n",
        " idea = idea.replace(\"xxbos xxfld 1 \",\"\").strip()\n",
        " idea"
      ],
      "execution_count": 104,
      "outputs": [
        {
          "output_type": "execute_result",
          "data": {
            "text/plain": [
              "'+ x 3 al 3 : + 3 xxbos another genius is more convenient than a good friend . xxbos a man growing tired of loneliness and of a youth appears to enjoy happiness .'"
            ]
          },
          "metadata": {
            "tags": []
          },
          "execution_count": 104
        }
      ]
    },
    {
      "metadata": {
        "id": "Ax1XJ_QXsVRI",
        "colab_type": "code",
        "colab": {
          "base_uri": "https://localhost:8080/",
          "height": 33
        },
        "outputId": "e96ea4ca-4d1d-4a3d-e02d-bd73a716d250"
      },
      "cell_type": "code",
      "source": [
        "idea = learn.predict(\"xxbos xxfld 1\", n_words=25, temperature=0.95)\n",
        "idea = idea.replace(\"xxbos xxfld 1 \",\"\").strip()\n",
        "idea "
      ],
      "execution_count": 47,
      "outputs": [
        {
          "output_type": "execute_result",
          "data": {
            "text/plain": [
              "'or 2 x - figure 1 ( the hint of a single you can not see your soul burned in your hand ; after all'"
            ]
          },
          "metadata": {
            "tags": []
          },
          "execution_count": 47
        }
      ]
    },
    {
      "metadata": {
        "id": "IWjrR1zRlmfc",
        "colab_type": "code",
        "colab": {
          "base_uri": "https://localhost:8080/",
          "height": 33
        },
        "outputId": "893cd86c-616b-4b95-f5ff-3eb18739ec59"
      },
      "cell_type": "code",
      "source": [
        "number_of_ideas = 100\n",
        "ideas_counter = 0\n",
        "all_ideas = []\n",
        "\n",
        "for i in range(1000):\n",
        "    idea = learn.predict(\"xxbos xxfld 1\", n_words=20, temperature=0.8)\n",
        "    ideas = idea.split(\"xxbos xxfld 1\")\n",
        "    ideas = ideas[1:-1]\n",
        "    \n",
        "    for idea in ideas:\n",
        "\n",
        "        idea = idea.replace(\"xxbos xxfld 1 \",\"\").strip()\n",
        "        if(idea):\n",
        "            all_ideas.append(idea)\n",
        "            ideas_counter = ideas_counter+1\n",
        "            print(idea)\n",
        "            \n",
        "    if ideas_counter > number_of_ideas:\n",
        "        break\n",
        "\n",
        "all_ideas"
      ],
      "execution_count": 30,
      "outputs": [
        {
          "output_type": "execute_result",
          "data": {
            "text/plain": [
              "[]"
            ]
          },
          "metadata": {
            "tags": []
          },
          "execution_count": 30
        }
      ]
    },
    {
      "metadata": {
        "id": "_d3CrUXNmnJ2",
        "colab_type": "code",
        "colab": {}
      },
      "cell_type": "code",
      "source": [
        "all_ideas"
      ],
      "execution_count": 0,
      "outputs": []
    }
  ]
}