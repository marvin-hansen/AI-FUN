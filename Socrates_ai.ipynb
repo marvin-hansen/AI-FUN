{
  "nbformat": 4,
  "nbformat_minor": 0,
  "metadata": {
    "colab": {
      "name": "Socrates_ai.ipynb",
      "version": "0.3.2",
      "provenance": [],
      "include_colab_link": true
    },
    "kernelspec": {
      "name": "python3",
      "display_name": "Python 3"
    },
    "accelerator": "GPU"
  },
  "cells": [
    {
      "cell_type": "markdown",
      "metadata": {
        "id": "view-in-github",
        "colab_type": "text"
      },
      "source": [
        "<a href=\"https://colab.research.google.com/github/marvin-hansen/AI-FUN/blob/master/Socrates_ai.ipynb\" target=\"_parent\"><img src=\"https://colab.research.google.com/assets/colab-badge.svg\" alt=\"Open In Colab\"/></a>"
      ]
    },
    {
      "metadata": {
        "id": "WWqHDVrBcOb1",
        "colab_type": "text"
      },
      "cell_type": "markdown",
      "source": [
        "# Philosophic quote generator\n",
        "\n",
        "\n",
        "\n",
        "---\n",
        "\n",
        "|    \t|               \t|\n",
        "|---------\t|-------------------------\t|\n",
        "| Author  \t| Marvin Hansen           \t|\n",
        "| Contact \t| marvin.hansen@gmail.com \t|\n",
        "| Version \t| 0.2                     \t|\n",
        "| Updated \t| April 30, 2019          \t|\n",
        "\n",
        "\n",
        "\n",
        "## Summary\n",
        "---\n",
        "\n",
        "@TODO \n",
        "\n",
        "\n",
        "## Changelog\n",
        "\n",
        "---\n",
        "* V-0.2 [Apr/30] Tuned parameters to optimze learning rate \n",
        "* V-0.1 [Apr/25] Added installs, imports, data loader, and procs\n",
        "\n",
        "## Compatibility\n",
        "---\n",
        "\n",
        "Lib's\n",
        "* Python Version: 3.6.7\n",
        "* Pandas Version: 0.24.2\n",
        "* Numpy Version: 1.16.3\n",
        "* PyTorch Version: 1.0.1.post2\n",
        "\n",
        "\n",
        "GPU Acceleration \n",
        "* GPU: NVDIA Tesla T4 \n",
        "* Cuda V10.0.130\n"
      ]
    },
    {
      "metadata": {
        "id": "VFG255vYceJi",
        "colab_type": "text"
      },
      "cell_type": "markdown",
      "source": [
        "# Installs "
      ]
    },
    {
      "metadata": {
        "id": "iucW4OIecBkC",
        "colab_type": "code",
        "colab": {}
      },
      "cell_type": "code",
      "source": [
        "# update pandas \n",
        "!pip install --upgrade numpy\n",
        "\n",
        "# update pandas \n",
        "!pip install --upgrade pandas  \n",
        "\n",
        "\n",
        "# install latet fast.ai release\n",
        "# https://github.com/fastai/fastai/releases\n",
        "!curl -s https://course.fast.ai/setup/colab | bash\n",
        "!ls"
      ],
      "execution_count": 0,
      "outputs": []
    },
    {
      "metadata": {
        "id": "FYt-N6BHdu6s",
        "colab_type": "text"
      },
      "cell_type": "markdown",
      "source": [
        "# Imports"
      ]
    },
    {
      "metadata": {
        "id": "XjFxzTGRdwGq",
        "colab_type": "code",
        "outputId": "e66b1ff4-5fc4-4e37-e953-11bba9458cbf",
        "colab": {
          "base_uri": "https://localhost:8080/",
          "height": 33
        }
      },
      "cell_type": "code",
      "source": [
        "import datetime\n",
        "import platform\n",
        "import warnings\n",
        "\n",
        "import torch\n",
        "import pandas as pd\n",
        "import numpy as np\n",
        "import matplotlib.pyplot as plt\n",
        "\n",
        "import fastai\n",
        "from fastai.imports import *\n",
        "from fastai.basics import *\n",
        "from fastai import *\n",
        "from fastai.text import *\n",
        "\n",
        "\n",
        "import platform\n",
        "print(\"Done\")"
      ],
      "execution_count": 2,
      "outputs": [
        {
          "output_type": "stream",
          "text": [
            "Done\n"
          ],
          "name": "stdout"
        }
      ]
    },
    {
      "metadata": {
        "id": "mKNKrZ8teIP-",
        "colab_type": "text"
      },
      "cell_type": "markdown",
      "source": [
        ""
      ]
    },
    {
      "metadata": {
        "id": "IfvZRikwnKdF",
        "colab_type": "text"
      },
      "cell_type": "markdown",
      "source": [
        "## GPU Accelerations "
      ]
    },
    {
      "metadata": {
        "id": "isfKYW-6nOOD",
        "colab_type": "code",
        "outputId": "376f7bcb-37d2-4289-b260-bf24af07a9c2",
        "colab": {
          "base_uri": "https://localhost:8080/",
          "height": 147
        }
      },
      "cell_type": "code",
      "source": [
        "torch.cuda.current_device()\n",
        "\n",
        "print(\"Cuda available: \" + str(torch.cuda.is_available()))\n",
        "print(\"Cuda enabled:\" + str(torch.backends.cudnn.enabled))\n",
        "\n",
        "#https://stackoverflow.com/questions/48152674/how-to-check-if-pytorch-is-using-the-gpu\n",
        "# setting device on GPU if available, else CPU\n",
        "device = torch.device('cuda' if torch.cuda.is_available() else 'cpu')\n",
        "print('Using device:', device)\n",
        "print()\n",
        "\n",
        "\n",
        "#Additional Info when using cuda\n",
        "if device.type == 'cuda':\n",
        "    print(\"GPU used: \" + torch.cuda.get_device_name(0))\n",
        "    print('Memory Usage:')\n",
        "    print('Allocated:', round(torch.cuda.memory_allocated(0)/1024**3,1), 'GB')\n",
        "    print('Cached:   ', round(torch.cuda.memory_cached(0)/1024**3,1), 'GB')"
      ],
      "execution_count": 4,
      "outputs": [
        {
          "output_type": "stream",
          "text": [
            "Cuda available: True\n",
            "Cuda enabled:True\n",
            "Using device: cuda\n",
            "\n",
            "GPU used: Tesla T4\n",
            "Memory Usage:\n",
            "Allocated: 0.0 GB\n",
            "Cached:    0.0 GB\n"
          ],
          "name": "stdout"
        }
      ]
    },
    {
      "metadata": {
        "id": "QMfsFdovmreG",
        "colab_type": "text"
      },
      "cell_type": "markdown",
      "source": [
        "# Constants & Flags"
      ]
    },
    {
      "metadata": {
        "id": "9HqABZcAnfmx",
        "colab_type": "code",
        "colab": {}
      },
      "cell_type": "code",
      "source": [
        "%reload_ext autoreload\n",
        "%autoreload 2\n",
        "%matplotlib inline\n",
        "\n",
        "#batch size \n",
        "bs = 64\n",
        "# bs = 32 \n",
        "# bs = 16   # uncomment this line if you run out of memory even after clicking Kernel->Restart\n",
        "\n",
        "# https://docs.scipy.org/doc/numpy/reference/generated/numpy.random.seed.html\n",
        "np.random.seed(42) "
      ],
      "execution_count": 0,
      "outputs": []
    },
    {
      "metadata": {
        "id": "KUDUUztMemxc",
        "colab_type": "text"
      },
      "cell_type": "markdown",
      "source": [
        "# Data"
      ]
    },
    {
      "metadata": {
        "id": "gWi5IU1EeoaC",
        "colab_type": "code",
        "outputId": "3d735983-795a-4b46-b89d-2bdfa8b24c0c",
        "colab": {
          "base_uri": "https://localhost:8080/",
          "height": 277
        }
      },
      "cell_type": "code",
      "source": [
        "! wget https://github.com/paraschopra/generating-text-small-corpus/raw/master/data/quotes.csv"
      ],
      "execution_count": 7,
      "outputs": [
        {
          "output_type": "stream",
          "text": [
            "--2019-04-30 11:35:58--  https://github.com/paraschopra/generating-text-small-corpus/raw/master/data/quotes.csv\n",
            "Resolving github.com (github.com)... 13.229.188.59, 52.74.223.119, 13.250.177.223\n",
            "Connecting to github.com (github.com)|13.229.188.59|:443... connected.\n",
            "HTTP request sent, awaiting response... 302 Found\n",
            "Location: https://raw.githubusercontent.com/paraschopra/generating-text-small-corpus/master/data/quotes.csv [following]\n",
            "--2019-04-30 11:35:58--  https://raw.githubusercontent.com/paraschopra/generating-text-small-corpus/master/data/quotes.csv\n",
            "Resolving raw.githubusercontent.com (raw.githubusercontent.com)... 151.101.0.133, 151.101.64.133, 151.101.128.133, ...\n",
            "Connecting to raw.githubusercontent.com (raw.githubusercontent.com)|151.101.0.133|:443... connected.\n",
            "HTTP request sent, awaiting response... 200 OK\n",
            "Length: 1062011 (1.0M) [text/plain]\n",
            "Saving to: ‘quotes.csv’\n",
            "\n",
            "quotes.csv          100%[===================>]   1.01M  --.-KB/s    in 0.03s   \n",
            "\n",
            "2019-04-30 11:35:59 (36.2 MB/s) - ‘quotes.csv’ saved [1062011/1062011]\n",
            "\n"
          ],
          "name": "stdout"
        }
      ]
    },
    {
      "metadata": {
        "id": "Ek0_623UfPEL",
        "colab_type": "code",
        "outputId": "a1c90374-0423-4068-bcca-3a18e9886815",
        "colab": {
          "base_uri": "https://localhost:8080/",
          "height": 70
        }
      },
      "cell_type": "code",
      "source": [
        "df = pd.read_csv('quotes.csv', sep=r'\\<\\|\\>', header=None, names=['text', 'author'])\n"
      ],
      "execution_count": 8,
      "outputs": [
        {
          "output_type": "stream",
          "text": [
            "/usr/local/lib/python3.6/dist-packages/ipykernel_launcher.py:1: ParserWarning: Falling back to the 'python' engine because the 'c' engine does not support regex separators (separators > 1 char and different from '\\s+' are interpreted as regex); you can avoid this warning by specifying engine='python'.\n",
            "  \"\"\"Entry point for launching an IPython kernel.\n"
          ],
          "name": "stderr"
        }
      ]
    },
    {
      "metadata": {
        "id": "CRwwZ5ZzfXUC",
        "colab_type": "code",
        "outputId": "f46b354e-1ede-465a-b638-d9f6c791c597",
        "colab": {
          "base_uri": "https://localhost:8080/",
          "height": 191
        }
      },
      "cell_type": "code",
      "source": [
        "\n",
        "df.head()\n"
      ],
      "execution_count": 11,
      "outputs": [
        {
          "output_type": "execute_result",
          "data": {
            "text/html": [
              "<div>\n",
              "<style scoped>\n",
              "    .dataframe tbody tr th:only-of-type {\n",
              "        vertical-align: middle;\n",
              "    }\n",
              "\n",
              "    .dataframe tbody tr th {\n",
              "        vertical-align: top;\n",
              "    }\n",
              "\n",
              "    .dataframe thead th {\n",
              "        text-align: right;\n",
              "    }\n",
              "</style>\n",
              "<table border=\"1\" class=\"dataframe\">\n",
              "  <thead>\n",
              "    <tr style=\"text-align: right;\">\n",
              "      <th></th>\n",
              "      <th>text</th>\n",
              "      <th>author</th>\n",
              "    </tr>\n",
              "  </thead>\n",
              "  <tbody>\n",
              "    <tr>\n",
              "      <th>0</th>\n",
              "      <td>A serious and good philosophical work could be...</td>\n",
              "      <td>Wittgenstein</td>\n",
              "    </tr>\n",
              "    <tr>\n",
              "      <th>1</th>\n",
              "      <td>The limits of my language means the limits of ...</td>\n",
              "      <td>Wittgenstein</td>\n",
              "    </tr>\n",
              "    <tr>\n",
              "      <th>2</th>\n",
              "      <td>I don't know why we are here, but I'm pretty s...</td>\n",
              "      <td>Wittgenstein</td>\n",
              "    </tr>\n",
              "    <tr>\n",
              "      <th>3</th>\n",
              "      <td>Whereof one cannot speak, thereof one must be ...</td>\n",
              "      <td>Wittgenstein</td>\n",
              "    </tr>\n",
              "    <tr>\n",
              "      <th>4</th>\n",
              "      <td>Hell isn't other people. Hell is yourself.</td>\n",
              "      <td>Wittgenstein</td>\n",
              "    </tr>\n",
              "  </tbody>\n",
              "</table>\n",
              "</div>"
            ],
            "text/plain": [
              "                                                text        author\n",
              "0  A serious and good philosophical work could be...  Wittgenstein\n",
              "1  The limits of my language means the limits of ...  Wittgenstein\n",
              "2  I don't know why we are here, but I'm pretty s...  Wittgenstein\n",
              "3  Whereof one cannot speak, thereof one must be ...  Wittgenstein\n",
              "4         Hell isn't other people. Hell is yourself.  Wittgenstein"
            ]
          },
          "metadata": {
            "tags": []
          },
          "execution_count": 11
        }
      ]
    },
    {
      "metadata": {
        "id": "O4TPJxPgfdob",
        "colab_type": "code",
        "colab": {}
      },
      "cell_type": "code",
      "source": [
        "df['text'] = df['text'].str.lower()\n"
      ],
      "execution_count": 0,
      "outputs": []
    },
    {
      "metadata": {
        "id": "u1f9pWjjeoVC",
        "colab_type": "text"
      },
      "cell_type": "markdown",
      "source": [
        "Split & Train & Test"
      ]
    },
    {
      "metadata": {
        "id": "vZOPFYDEfjq7",
        "colab_type": "code",
        "outputId": "f33e2435-3f17-4072-8466-f36aca92aab3",
        "colab": {
          "base_uri": "https://localhost:8080/",
          "height": 33
        }
      },
      "cell_type": "code",
      "source": [
        "valid_pct = 0.10 #validation percent\n",
        "df = df.iloc[np.random.permutation(len(df))]\n",
        "cut = int(valid_pct * len(df)) + 1\n",
        "train_df, valid_df = df[cut:], df[:cut]\n",
        "len(train_df), len(valid_df)\n"
      ],
      "execution_count": 16,
      "outputs": [
        {
          "output_type": "execute_result",
          "data": {
            "text/plain": [
              "(4616, 514)"
            ]
          },
          "metadata": {
            "tags": []
          },
          "execution_count": 16
        }
      ]
    },
    {
      "metadata": {
        "id": "RW0umysBfrU7",
        "colab_type": "code",
        "outputId": "7ecb91e0-a228-4410-8c18-11d2e7eb82a7",
        "colab": {
          "base_uri": "https://localhost:8080/",
          "height": 47
        }
      },
      "cell_type": "code",
      "source": [
        "nan_rows = df[df['text'].isnull()]\n",
        "\n",
        "nan_rows\n"
      ],
      "execution_count": 17,
      "outputs": [
        {
          "output_type": "execute_result",
          "data": {
            "text/html": [
              "<div>\n",
              "<style scoped>\n",
              "    .dataframe tbody tr th:only-of-type {\n",
              "        vertical-align: middle;\n",
              "    }\n",
              "\n",
              "    .dataframe tbody tr th {\n",
              "        vertical-align: top;\n",
              "    }\n",
              "\n",
              "    .dataframe thead th {\n",
              "        text-align: right;\n",
              "    }\n",
              "</style>\n",
              "<table border=\"1\" class=\"dataframe\">\n",
              "  <thead>\n",
              "    <tr style=\"text-align: right;\">\n",
              "      <th></th>\n",
              "      <th>text</th>\n",
              "      <th>author</th>\n",
              "    </tr>\n",
              "  </thead>\n",
              "  <tbody>\n",
              "  </tbody>\n",
              "</table>\n",
              "</div>"
            ],
            "text/plain": [
              "Empty DataFrame\n",
              "Columns: [text, author]\n",
              "Index: []"
            ]
          },
          "metadata": {
            "tags": []
          },
          "execution_count": 17
        }
      ]
    },
    {
      "metadata": {
        "id": "Q4UQbOvyfvXy",
        "colab_type": "text"
      },
      "cell_type": "markdown",
      "source": [
        "# Prepare model\n",
        "\n",
        "\n",
        "Create databunch"
      ]
    },
    {
      "metadata": {
        "id": "RZiydo6-fyN0",
        "colab_type": "code",
        "colab": {}
      },
      "cell_type": "code",
      "source": [
        "data_lm = TextLMDataBunch.from_df('data', train_df, valid_df, text_cols='text',\n",
        "                           label_cols='author')"
      ],
      "execution_count": 0,
      "outputs": []
    },
    {
      "metadata": {
        "id": "LOYHmOzUf3dc",
        "colab_type": "text"
      },
      "cell_type": "markdown",
      "source": [
        "Create learner"
      ]
    },
    {
      "metadata": {
        "id": "i_AwBbr3f6Oc",
        "colab_type": "code",
        "colab": {}
      },
      "cell_type": "code",
      "source": [
        "learn.destroy()\n",
        "\n",
        "learn = language_model_learner(data=data_lm,arch=AWD_LSTM, drop_mult=0.5)\n",
        "\n",
        "print(\"Done! New Learner created!\")"
      ],
      "execution_count": 0,
      "outputs": []
    },
    {
      "metadata": {
        "id": "lMoI5B-TijBw",
        "colab_type": "code",
        "colab": {}
      },
      "cell_type": "code",
      "source": [
        "# Train model"
      ],
      "execution_count": 0,
      "outputs": []
    },
    {
      "metadata": {
        "id": "Cr08-7RWh96e",
        "colab_type": "code",
        "outputId": "bb2a55a6-c50a-426f-bd5e-034356872d8d",
        "colab": {
          "base_uri": "https://localhost:8080/",
          "height": 133
        }
      },
      "cell_type": "code",
      "source": [
        "learn.fit_one_cycle(3, 1e-2)\n"
      ],
      "execution_count": 212,
      "outputs": [
        {
          "output_type": "display_data",
          "data": {
            "text/html": [
              "<table border=\"1\" class=\"dataframe\">\n",
              "  <thead>\n",
              "    <tr style=\"text-align: left;\">\n",
              "      <th>epoch</th>\n",
              "      <th>train_loss</th>\n",
              "      <th>valid_loss</th>\n",
              "      <th>accuracy</th>\n",
              "      <th>time</th>\n",
              "    </tr>\n",
              "  </thead>\n",
              "  <tbody>\n",
              "    <tr>\n",
              "      <td>0</td>\n",
              "      <td>4.635530</td>\n",
              "      <td>4.243089</td>\n",
              "      <td>0.247098</td>\n",
              "      <td>00:07</td>\n",
              "    </tr>\n",
              "    <tr>\n",
              "      <td>1</td>\n",
              "      <td>4.402325</td>\n",
              "      <td>4.154118</td>\n",
              "      <td>0.251920</td>\n",
              "      <td>00:07</td>\n",
              "    </tr>\n",
              "    <tr>\n",
              "      <td>2</td>\n",
              "      <td>4.187373</td>\n",
              "      <td>4.132975</td>\n",
              "      <td>0.255313</td>\n",
              "      <td>00:07</td>\n",
              "    </tr>\n",
              "  </tbody>\n",
              "</table>"
            ],
            "text/plain": [
              "<IPython.core.display.HTML object>"
            ]
          },
          "metadata": {
            "tags": []
          }
        }
      ]
    },
    {
      "metadata": {
        "id": "0__BvRIWkCbu",
        "colab_type": "code",
        "outputId": "59c512f1-6cc8-4de8-c363-c78d8f2ad5c9",
        "colab": {
          "base_uri": "https://localhost:8080/",
          "height": 300
        }
      },
      "cell_type": "code",
      "source": [
        "learn.lr_find()\n",
        "learn.recorder.plot()"
      ],
      "execution_count": 41,
      "outputs": [
        {
          "output_type": "display_data",
          "data": {
            "text/html": [
              ""
            ],
            "text/plain": [
              "<IPython.core.display.HTML object>"
            ]
          },
          "metadata": {
            "tags": []
          }
        },
        {
          "output_type": "stream",
          "text": [
            "LR Finder is complete, type {learner_name}.recorder.plot() to see the graph.\n"
          ],
          "name": "stdout"
        },
        {
          "output_type": "display_data",
          "data": {
            "image/png": "[encoded data removed]",
            "text/plain": [
              "<Figure size 432x288 with 1 Axes>"
            ]
          },
          "metadata": {
            "tags": []
          }
        }
      ]
    },
    {
      "metadata": {
        "id": "yNrWSSKRin8R",
        "colab_type": "code",
        "outputId": "5add197c-b94f-46f8-c2c4-0ec1ce719d6b",
        "colab": {
          "base_uri": "https://localhost:8080/",
          "height": 76
        }
      },
      "cell_type": "code",
      "source": [
        "# re-train the entire model \n",
        "learn.unfreeze() \n",
        "\n",
        "# 10x optimal rate \n",
        "learn.fit_one_cycle(1, 1e-2)"
      ],
      "execution_count": 213,
      "outputs": [
        {
          "output_type": "display_data",
          "data": {
            "text/html": [
              "<table border=\"1\" class=\"dataframe\">\n",
              "  <thead>\n",
              "    <tr style=\"text-align: left;\">\n",
              "      <th>epoch</th>\n",
              "      <th>train_loss</th>\n",
              "      <th>valid_loss</th>\n",
              "      <th>accuracy</th>\n",
              "      <th>time</th>\n",
              "    </tr>\n",
              "  </thead>\n",
              "  <tbody>\n",
              "    <tr>\n",
              "      <td>0</td>\n",
              "      <td>4.147532</td>\n",
              "      <td>4.096331</td>\n",
              "      <td>0.263929</td>\n",
              "      <td>00:09</td>\n",
              "    </tr>\n",
              "  </tbody>\n",
              "</table>"
            ],
            "text/plain": [
              "<IPython.core.display.HTML object>"
            ]
          },
          "metadata": {
            "tags": []
          }
        }
      ]
    },
    {
      "metadata": {
        "id": "_yQ2LWGfj0__",
        "colab_type": "code",
        "outputId": "651b2802-b2f7-4615-d4a0-d5e5a16bc1d3",
        "colab": {
          "base_uri": "https://localhost:8080/",
          "height": 897
        }
      },
      "cell_type": "code",
      "source": [
        "  # 10x optimal rate \n",
        "  cycles = 5\n",
        "  lr =  1e-2\n",
        "  \n",
        "  # slice for learn rate gradient \n",
        "  learn.fit_one_cycle(cycles, slice(lr), wd=0.1)\n",
        " \n",
        " # smaller rate with smaller steps\n",
        "  learn.fit_one_cycle(5, 1e-03, wd=0.1)\n",
        "  # plot losses\n",
        "  learn.recorder.plot_losses()\n",
        "\n",
        "  # plot losses\n",
        "  learn.recorder.plot_losses()"
      ],
      "execution_count": 215,
      "outputs": [
        {
          "output_type": "display_data",
          "data": {
            "text/html": [
              "<table border=\"1\" class=\"dataframe\">\n",
              "  <thead>\n",
              "    <tr style=\"text-align: left;\">\n",
              "      <th>epoch</th>\n",
              "      <th>train_loss</th>\n",
              "      <th>valid_loss</th>\n",
              "      <th>accuracy</th>\n",
              "      <th>time</th>\n",
              "    </tr>\n",
              "  </thead>\n",
              "  <tbody>\n",
              "    <tr>\n",
              "      <td>0</td>\n",
              "      <td>2.688676</td>\n",
              "      <td>3.986783</td>\n",
              "      <td>0.290893</td>\n",
              "      <td>00:09</td>\n",
              "    </tr>\n",
              "    <tr>\n",
              "      <td>1</td>\n",
              "      <td>2.709300</td>\n",
              "      <td>3.986752</td>\n",
              "      <td>0.296875</td>\n",
              "      <td>00:09</td>\n",
              "    </tr>\n",
              "    <tr>\n",
              "      <td>2</td>\n",
              "      <td>2.603097</td>\n",
              "      <td>4.016577</td>\n",
              "      <td>0.301562</td>\n",
              "      <td>00:09</td>\n",
              "    </tr>\n",
              "    <tr>\n",
              "      <td>3</td>\n",
              "      <td>2.407762</td>\n",
              "      <td>4.050092</td>\n",
              "      <td>0.301295</td>\n",
              "      <td>00:09</td>\n",
              "    </tr>\n",
              "    <tr>\n",
              "      <td>4</td>\n",
              "      <td>2.255631</td>\n",
              "      <td>4.057918</td>\n",
              "      <td>0.304777</td>\n",
              "      <td>00:09</td>\n",
              "    </tr>\n",
              "  </tbody>\n",
              "</table>"
            ],
            "text/plain": [
              "<IPython.core.display.HTML object>"
            ]
          },
          "metadata": {
            "tags": []
          }
        },
        {
          "output_type": "display_data",
          "data": {
            "text/html": [
              "<table border=\"1\" class=\"dataframe\">\n",
              "  <thead>\n",
              "    <tr style=\"text-align: left;\">\n",
              "      <th>epoch</th>\n",
              "      <th>train_loss</th>\n",
              "      <th>valid_loss</th>\n",
              "      <th>accuracy</th>\n",
              "      <th>time</th>\n",
              "    </tr>\n",
              "  </thead>\n",
              "  <tbody>\n",
              "    <tr>\n",
              "      <td>0</td>\n",
              "      <td>2.127328</td>\n",
              "      <td>4.066507</td>\n",
              "      <td>0.306384</td>\n",
              "      <td>00:09</td>\n",
              "    </tr>\n",
              "    <tr>\n",
              "      <td>1</td>\n",
              "      <td>2.126450</td>\n",
              "      <td>4.070932</td>\n",
              "      <td>0.306205</td>\n",
              "      <td>00:10</td>\n",
              "    </tr>\n",
              "    <tr>\n",
              "      <td>2</td>\n",
              "      <td>2.059707</td>\n",
              "      <td>4.100480</td>\n",
              "      <td>0.309777</td>\n",
              "      <td>00:09</td>\n",
              "    </tr>\n",
              "    <tr>\n",
              "      <td>3</td>\n",
              "      <td>1.969153</td>\n",
              "      <td>4.111407</td>\n",
              "      <td>0.312187</td>\n",
              "      <td>00:09</td>\n",
              "    </tr>\n",
              "    <tr>\n",
              "      <td>4</td>\n",
              "      <td>1.895402</td>\n",
              "      <td>4.124167</td>\n",
              "      <td>0.312187</td>\n",
              "      <td>00:10</td>\n",
              "    </tr>\n",
              "  </tbody>\n",
              "</table>"
            ],
            "text/plain": [
              "<IPython.core.display.HTML object>"
            ]
          },
          "metadata": {
            "tags": []
          }
        },
        {
          "output_type": "display_data",
          "data": {
            "image/png": "[encoded data removed]",
            "text/plain": [
              "<Figure size 432x288 with 1 Axes>"
            ]
          },
          "metadata": {
            "tags": []
          }
        },
        {
          "output_type": "display_data",
          "data": {
            "image/png": "[encoded data removed]",
            "text/plain": [
              "<Figure size 432x288 with 1 Axes>"
            ]
          },
          "metadata": {
            "tags": []
          }
        }
      ]
    },
    {
      "metadata": {
        "id": "J81-OZ2UUXL2",
        "colab_type": "code",
        "colab": {
          "base_uri": "https://localhost:8080/",
          "height": 601
        },
        "outputId": "90c7b726-5b90-4641-f2a2-5b7f107bce14"
      },
      "cell_type": "code",
      "source": [
        "wd=1e-7\n",
        "lr=1e-3\n",
        "lrs = lr\n",
        "epch = 10\n",
        "\n",
        "learn.fit(epch, lrs, wd)\n",
        "learn.recorder.plot_losses()"
      ],
      "execution_count": 216,
      "outputs": [
        {
          "output_type": "display_data",
          "data": {
            "text/html": [
              "<table border=\"1\" class=\"dataframe\">\n",
              "  <thead>\n",
              "    <tr style=\"text-align: left;\">\n",
              "      <th>epoch</th>\n",
              "      <th>train_loss</th>\n",
              "      <th>valid_loss</th>\n",
              "      <th>accuracy</th>\n",
              "      <th>time</th>\n",
              "    </tr>\n",
              "  </thead>\n",
              "  <tbody>\n",
              "    <tr>\n",
              "      <td>0</td>\n",
              "      <td>1.844634</td>\n",
              "      <td>4.141326</td>\n",
              "      <td>0.312545</td>\n",
              "      <td>00:10</td>\n",
              "    </tr>\n",
              "    <tr>\n",
              "      <td>1</td>\n",
              "      <td>1.803508</td>\n",
              "      <td>4.169883</td>\n",
              "      <td>0.313571</td>\n",
              "      <td>00:10</td>\n",
              "    </tr>\n",
              "    <tr>\n",
              "      <td>2</td>\n",
              "      <td>1.732106</td>\n",
              "      <td>4.184914</td>\n",
              "      <td>0.316696</td>\n",
              "      <td>00:10</td>\n",
              "    </tr>\n",
              "    <tr>\n",
              "      <td>3</td>\n",
              "      <td>1.662007</td>\n",
              "      <td>4.207911</td>\n",
              "      <td>0.318393</td>\n",
              "      <td>00:10</td>\n",
              "    </tr>\n",
              "    <tr>\n",
              "      <td>4</td>\n",
              "      <td>1.592528</td>\n",
              "      <td>4.239671</td>\n",
              "      <td>0.318125</td>\n",
              "      <td>00:10</td>\n",
              "    </tr>\n",
              "    <tr>\n",
              "      <td>5</td>\n",
              "      <td>1.532584</td>\n",
              "      <td>4.266495</td>\n",
              "      <td>0.319777</td>\n",
              "      <td>00:10</td>\n",
              "    </tr>\n",
              "    <tr>\n",
              "      <td>6</td>\n",
              "      <td>1.466138</td>\n",
              "      <td>4.308172</td>\n",
              "      <td>0.319643</td>\n",
              "      <td>00:10</td>\n",
              "    </tr>\n",
              "    <tr>\n",
              "      <td>7</td>\n",
              "      <td>1.410037</td>\n",
              "      <td>4.317865</td>\n",
              "      <td>0.320804</td>\n",
              "      <td>00:10</td>\n",
              "    </tr>\n",
              "    <tr>\n",
              "      <td>8</td>\n",
              "      <td>1.339760</td>\n",
              "      <td>4.347308</td>\n",
              "      <td>0.321786</td>\n",
              "      <td>00:10</td>\n",
              "    </tr>\n",
              "    <tr>\n",
              "      <td>9</td>\n",
              "      <td>1.277074</td>\n",
              "      <td>4.385358</td>\n",
              "      <td>0.322411</td>\n",
              "      <td>00:10</td>\n",
              "    </tr>\n",
              "  </tbody>\n",
              "</table>"
            ],
            "text/plain": [
              "<IPython.core.display.HTML object>"
            ]
          },
          "metadata": {
            "tags": []
          }
        },
        {
          "output_type": "display_data",
          "data": {
            "image/png": "[encoded data removed]",
            "text/plain": [
              "<Figure size 432x288 with 1 Axes>"
            ]
          },
          "metadata": {
            "tags": []
          }
        }
      ]
    },
    {
      "metadata": {
        "id": "1oGCguMmle3k",
        "colab_type": "text"
      },
      "cell_type": "markdown",
      "source": [
        "# Generate text (Just hit Ctrl-F10 to run all subsequent cells )"
      ]
    },
    {
      "metadata": {
        "id": "Q5c3K6pbleDn",
        "colab_type": "code",
        "outputId": "c48be4bd-9797-43b2-b948-2ee9676d29f5",
        "colab": {
          "base_uri": "https://localhost:8080/",
          "height": 33
        }
      },
      "cell_type": "code",
      "source": [
        " idea = learn.predict(\"xxbos xxfld 1\", n_words=35, temperature=0.8)\n",
        " idea = idea.replace(\"xxbos xxfld 1 \",\"\").strip()\n",
        " idea"
      ],
      "execution_count": 294,
      "outputs": [
        {
          "output_type": "execute_result",
          "data": {
            "text/plain": [
              "'- half of the soul demanding rights and self - preservation , independence has never been so great as the man in the world . xxbos and i invented a brighter flame for you .'"
            ]
          },
          "metadata": {
            "tags": []
          },
          "execution_count": 294
        }
      ]
    },
    {
      "metadata": {
        "id": "TM9zoVo1uvU7",
        "colab_type": "code",
        "outputId": "f61de980-1d67-438d-d48d-832bd4b1dde2",
        "colab": {
          "base_uri": "https://localhost:8080/",
          "height": 33
        }
      },
      "cell_type": "code",
      "source": [
        " idea = learn.predict(\"xxbos xxfld 1\", n_words=35, temperature=0.8)\n",
        " idea = idea.replace(\"xxbos xxfld 1 \",\"\").strip()\n",
        " idea"
      ],
      "execution_count": 295,
      "outputs": [
        {
          "output_type": "execute_result",
          "data": {
            "text/plain": [
              "'- 2 x - power power . - the power of a society is determined by its victory over other societies in other finite games . american war , like the military or other political'"
            ]
          },
          "metadata": {
            "tags": []
          },
          "execution_count": 295
        }
      ]
    },
    {
      "metadata": {
        "id": "th069irnxfvf",
        "colab_type": "code",
        "outputId": "8d611d03-ae6b-4786-a46b-9c9a10122b4c",
        "colab": {
          "base_uri": "https://localhost:8080/",
          "height": 33
        }
      },
      "cell_type": "code",
      "source": [
        " idea = learn.predict(\"xxbos xxfld 1\", n_words=35, temperature=0.8)\n",
        " idea = idea.replace(\"xxbos xxfld 1 \",\"\").strip()\n",
        " idea"
      ],
      "execution_count": 296,
      "outputs": [
        {
          "output_type": "execute_result",
          "data": {
            "text/plain": [
              "'and 2 x - crude indignation systems [ 1 ] are called decisive . xxbos i know that even the most destitute men are not convinced of their reasons , not of the seriousness of'"
            ]
          },
          "metadata": {
            "tags": []
          },
          "execution_count": 296
        }
      ]
    },
    {
      "metadata": {
        "id": "cdq7tHfayWQl",
        "colab_type": "code",
        "outputId": "6d802fa0-2529-4555-bfa4-de86990450ac",
        "colab": {
          "base_uri": "https://localhost:8080/",
          "height": 33
        }
      },
      "cell_type": "code",
      "source": [
        " idea = learn.predict(\"xxbos xxfld 1\", n_words=35, temperature=0.8)\n",
        " idea = idea.replace(\"xxbos xxfld 1 \",\"\").strip()\n",
        " idea"
      ],
      "execution_count": 297,
      "outputs": [
        {
          "output_type": "execute_result",
          "data": {
            "text/plain": [
              "'dan orang menjadi manusia adalah sakit menjadi manusia kita pantas diri kita mencintai . kita hanya saling waktu . kita hanya punya waktu untuk menjadi bahagia , lalu menjadi diri kita dapat sendiri . xxbos'"
            ]
          },
          "metadata": {
            "tags": []
          },
          "execution_count": 297
        }
      ]
    },
    {
      "metadata": {
        "id": "k2cDTmxZ5YsE",
        "colab_type": "code",
        "outputId": "5a2480f3-9058-430f-a12e-fa61886cec3a",
        "colab": {
          "base_uri": "https://localhost:8080/",
          "height": 33
        }
      },
      "cell_type": "code",
      "source": [
        " idea = learn.predict(\"xxbos xxfld 1\", n_words=35, temperature=0.7)\n",
        " idea = idea.replace(\"xxbos xxfld 1 \",\"\").strip()\n",
        " idea"
      ],
      "execution_count": 298,
      "outputs": [
        {
          "output_type": "execute_result",
          "data": {
            "text/plain": [
              "'- 4 .- a friend often gave a sign to the law of conservation of energy . but he does not put his law in motion . he does not believe that it is the'"
            ]
          },
          "metadata": {
            "tags": []
          },
          "execution_count": 298
        }
      ]
    },
    {
      "metadata": {
        "id": "Ax1XJ_QXsVRI",
        "colab_type": "code",
        "outputId": "1779a54c-893c-4762-bc9a-67512669402a",
        "colab": {
          "base_uri": "https://localhost:8080/",
          "height": 33
        }
      },
      "cell_type": "code",
      "source": [
        "idea = learn.predict(\"xxbos xxfld 1\", n_words=25, temperature=0.95)\n",
        "idea = idea.replace(\"xxbos xxfld 1 \",\"\").strip()\n",
        "idea "
      ],
      "execution_count": 299,
      "outputs": [
        {
          "output_type": "execute_result",
          "data": {
            "text/plain": [
              "'and 3 absolute murder xxbos the great delusion of modernity , is that the laws of nature describe the universe , we think it is'"
            ]
          },
          "metadata": {
            "tags": []
          },
          "execution_count": 299
        }
      ]
    },
    {
      "metadata": {
        "id": "IWjrR1zRlmfc",
        "colab_type": "code",
        "outputId": "7aaddb6f-9605-4af1-d96f-f9f32e8cf3c0",
        "colab": {
          "base_uri": "https://localhost:8080/",
          "height": 33
        }
      },
      "cell_type": "code",
      "source": [
        "idea = learn.predict(\"xxbos xxfld 1\", n_words=25, temperature=0.95)\n",
        "idea = idea.replace(\"xxbos xxfld 1 \",\"\").strip()\n",
        "idea "
      ],
      "execution_count": 300,
      "outputs": [
        {
          "output_type": "execute_result",
          "data": {
            "text/plain": [
              "'- 4 3 \" . philosophy exercises solely on influence on plato who , like all party literature and religious a born man , feels'"
            ]
          },
          "metadata": {
            "tags": []
          },
          "execution_count": 300
        }
      ]
    },
    {
      "metadata": {
        "id": "_d3CrUXNmnJ2",
        "colab_type": "code",
        "colab": {}
      },
      "cell_type": "code",
      "source": [
        ""
      ],
      "execution_count": 0,
      "outputs": []
    }
  ]
}